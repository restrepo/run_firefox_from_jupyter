{
 "cells": [
  {
   "cell_type": "code",
   "execution_count": 18,
   "metadata": {
    "collapsed": true
   },
   "outputs": [],
   "source": [
    "import pandas as pd\n",
    "import unidecode \n",
    "from wos_scp import *"
   ]
  },
  {
   "cell_type": "code",
   "execution_count": 19,
   "metadata": {},
   "outputs": [
    {
     "data": {
      "text/plain": [
       "'actividad antimicobacteriana de virola flexuosa, v. canophylla, v. carinata y dugandiodendron yarumalense'"
      ]
     },
     "execution_count": 19,
     "metadata": {},
     "output_type": "execute_result"
    }
   ],
   "source": [
    "pd.read_excel('analysed.xlsx').SIU_título.values[-1]"
   ]
  },
  {
   "cell_type": "code",
   "execution_count": 3,
   "metadata": {
    "collapsed": true
   },
   "outputs": [],
   "source": [
    "def read_drive_excel(file_name,**kwargs):\n",
    "    '''Read excel from google drive\n",
    "     Requieres a drive_file dictionary with the keys for the google drive\n",
    "     file names'''\n",
    "    import pandas as pd    \n",
    "    return pd.read_excel(download_file_from_google_drive(\n",
    "        drive_file.get(file_name,'Not key found for %s' %file_name)),**kwargs)"
   ]
  },
  {
   "cell_type": "code",
   "execution_count": 5,
   "metadata": {
    "collapsed": true
   },
   "outputs": [],
   "source": [
    "from configparser import ConfigParser"
   ]
  },
  {
   "cell_type": "code",
   "execution_count": 6,
   "metadata": {
    "collapsed": true
   },
   "outputs": [],
   "source": [
    "cfg=ConfigParser()\n",
    "cfg.optionxform=str\n",
    "tmp=cfg.read('drive.cfg')\n",
    "drive_file=cfg['FILES']"
   ]
  },
  {
   "cell_type": "code",
   "execution_count": 8,
   "metadata": {},
   "outputs": [],
   "source": [
    "from google_drive_tools import *\n",
    "udea=read_drive_excel('WOS_SCP_UDEA_SJR_SIU.xlsx')"
   ]
  },
  {
   "cell_type": "code",
   "execution_count": 13,
   "metadata": {
    "collapsed": true
   },
   "outputs": [],
   "source": [
    "udea=fill_NaN(udea)"
   ]
  },
  {
   "cell_type": "code",
   "execution_count": 14,
   "metadata": {},
   "outputs": [],
   "source": [
    "SIU=udea[udea.CTR_Centro!=''].reset_index(drop=True)\n",
    "\n",
    "SIU['SIU_título']=SIU.TI.str.lower().map(unidecode.unidecode).str.replace(\n",
    "    '\\s+\\([0-9a-z\\s\\-\\.\\'?\\:,\\/]+\\)\\.*$','').str.replace('\\.$','')\n",
    "\n",
    "SIU['SIU_título']=SIU.SIU_título.str.lower().map(unidecode.unidecode).str.replace(\n",
    "    '\\s+\\[[0-9a-z\\s\\-\\.\\'?\\:,\\(\\)\\/]+\\].*$','').str.replace('\\.$','')\n",
    "\n",
    "tmp=SIU[~SIU.Tipo.str.contains('^UDEA$')]\n",
    "siu=SIU[SIU.Tipo.str.contains('^UDEA$')].append(tmp).reset_index(drop=True)\n",
    "\n",
    "siu['UDEA_Autor']=siu.CTR_NOMBRE\n",
    "siu['UDEA_apellido']=siu.CTR_NOMBRE.str.split(' ').str[0].str.lower().map(unidecode.unidecode)\n",
    "df=siu[['SIU_título','UDEA_Autor','UDEA_apellido']]"
   ]
  },
  {
   "cell_type": "code",
   "execution_count": 20,
   "metadata": {},
   "outputs": [
    {
     "data": {
      "text/html": [
       "<div>\n",
       "<table border=\"1\" class=\"dataframe\">\n",
       "  <thead>\n",
       "    <tr style=\"text-align: right;\">\n",
       "      <th></th>\n",
       "      <th>SIU_título</th>\n",
       "      <th>UDEA_Autor</th>\n",
       "      <th>UDEA_apellido</th>\n",
       "    </tr>\n",
       "  </thead>\n",
       "  <tbody>\n",
       "    <tr>\n",
       "      <th>1100</th>\n",
       "      <td>actividad antimicobacteriana de virola flexuos...</td>\n",
       "      <td>ECHEVERRI LOPEZ LUIS FERNANDO</td>\n",
       "      <td>echeverri</td>\n",
       "    </tr>\n",
       "  </tbody>\n",
       "</table>\n",
       "</div>"
      ],
      "text/plain": [
       "                                             SIU_título  \\\n",
       "1100  actividad antimicobacteriana de virola flexuos...   \n",
       "\n",
       "                         UDEA_Autor UDEA_apellido  \n",
       "1100  ECHEVERRI LOPEZ LUIS FERNANDO     echeverri  "
      ]
     },
     "execution_count": 20,
     "metadata": {},
     "output_type": "execute_result"
    }
   ],
   "source": [
    "df[df.SIU_título.str.contains('actividad antimicobacteriana de virola flexuosa')]"
   ]
  },
  {
   "cell_type": "code",
   "execution_count": 17,
   "metadata": {},
   "outputs": [
    {
     "name": "stdout",
     "output_type": "stream",
     "text": [
      "analysed.xlsx  geckodriver.log            patents.ipynb           shell_like.py\r\n",
      "drive.cfg      Googe_search_engine.ipynb  \u001b[0m\u001b[01;34m__pycache__\u001b[0m/            test.ipynb\r\n",
      "failed.xlsx    google_drive_tools.py      shell_like_commands.py  wos_scp.py\r\n"
     ]
    }
   ],
   "source": [
    "ls"
   ]
  },
  {
   "cell_type": "code",
   "execution_count": 21,
   "metadata": {},
   "outputs": [
    {
     "data": {
      "text/html": [
       "<div>\n",
       "<table border=\"1\" class=\"dataframe\">\n",
       "  <thead>\n",
       "    <tr style=\"text-align: right;\">\n",
       "      <th></th>\n",
       "      <th>SIU_título</th>\n",
       "      <th>UDEA_Autor</th>\n",
       "      <th>UDEA_apellido</th>\n",
       "    </tr>\n",
       "  </thead>\n",
       "  <tbody>\n",
       "    <tr>\n",
       "      <th>0</th>\n",
       "      <td>primer registro del flebotomineo brumptomyia p...</td>\n",
       "      <td>VELEZ BERNAL IVAN DARIO</td>\n",
       "      <td>velez</td>\n",
       "    </tr>\n",
       "    <tr>\n",
       "      <th>1</th>\n",
       "      <td>estudio prospectivo de casos de cirrosis y car...</td>\n",
       "      <td>HOYOS DUQUE SERGIO IVAN</td>\n",
       "      <td>hoyos</td>\n",
       "    </tr>\n",
       "    <tr>\n",
       "      <th>2</th>\n",
       "      <td>optimal flood control of a hydroelectric reser...</td>\n",
       "      <td>LOPEZ LEZAMA JESUS MARIA</td>\n",
       "      <td>lopez</td>\n",
       "    </tr>\n",
       "    <tr>\n",
       "      <th>3</th>\n",
       "      <td>characterization of iron site in manganites la...</td>\n",
       "      <td>ARNACHE OLMOS OSCAR LUIS</td>\n",
       "      <td>arnache</td>\n",
       "    </tr>\n",
       "    <tr>\n",
       "      <th>4</th>\n",
       "      <td>fisiopatologia reproductiva en ganado de leche</td>\n",
       "      <td>MALDONADO ESTRADA JUAN GUILLERMO</td>\n",
       "      <td>maldonado</td>\n",
       "    </tr>\n",
       "    <tr>\n",
       "      <th>5</th>\n",
       "      <td>co2 adsorption on carbonaceous surfaces: a com...</td>\n",
       "      <td>MONDRAGON PEREZ FANOR</td>\n",
       "      <td>mondragon</td>\n",
       "    </tr>\n",
       "    <tr>\n",
       "      <th>6</th>\n",
       "      <td>fe doped tio2 obtained by mechanical milling i...</td>\n",
       "      <td>OSORIO VELEZ JAIME ALBERTO</td>\n",
       "      <td>osorio</td>\n",
       "    </tr>\n",
       "    <tr>\n",
       "      <th>7</th>\n",
       "      <td>a review of the early peopling and cultural di...</td>\n",
       "      <td>ACEITUNO BOCANEGRA FRANCISCO JAVIER</td>\n",
       "      <td>aceituno</td>\n",
       "    </tr>\n",
       "  </tbody>\n",
       "</table>\n",
       "</div>"
      ],
      "text/plain": [
       "                                          SIU_título  \\\n",
       "0  primer registro del flebotomineo brumptomyia p...   \n",
       "1  estudio prospectivo de casos de cirrosis y car...   \n",
       "2  optimal flood control of a hydroelectric reser...   \n",
       "3  characterization of iron site in manganites la...   \n",
       "4     fisiopatologia reproductiva en ganado de leche   \n",
       "5  co2 adsorption on carbonaceous surfaces: a com...   \n",
       "6  fe doped tio2 obtained by mechanical milling i...   \n",
       "7  a review of the early peopling and cultural di...   \n",
       "\n",
       "                                      UDEA_Autor UDEA_apellido  \n",
       "0                        VELEZ BERNAL IVAN DARIO         velez  \n",
       "1                        HOYOS DUQUE SERGIO IVAN         hoyos  \n",
       "2                       LOPEZ LEZAMA JESUS MARIA         lopez  \n",
       "3  ARNACHE OLMOS OSCAR LUIS                            arnache  \n",
       "4  MALDONADO ESTRADA JUAN GUILLERMO                  maldonado  \n",
       "5  MONDRAGON PEREZ FANOR                             mondragon  \n",
       "6  OSORIO VELEZ JAIME ALBERTO                           osorio  \n",
       "7            ACEITUNO BOCANEGRA FRANCISCO JAVIER      aceituno  "
      ]
     },
     "execution_count": 21,
     "metadata": {},
     "output_type": "execute_result"
    }
   ],
   "source": [
    "pd.read_excel('failed.xlsx')"
   ]
  },
  {
   "cell_type": "code",
   "execution_count": null,
   "metadata": {
    "collapsed": true
   },
   "outputs": [],
   "source": [
    "generate"
   ]
  }
 ],
 "metadata": {
  "kernelspec": {
   "display_name": "Python 3",
   "language": "python",
   "name": "python3"
  },
  "language_info": {
   "codemirror_mode": {
    "name": "ipython",
    "version": 3
   },
   "file_extension": ".py",
   "mimetype": "text/x-python",
   "name": "python",
   "nbconvert_exporter": "python",
   "pygments_lexer": "ipython3",
   "version": "3.4.2"
  },
  "toc": {
   "colors": {
    "hover_highlight": "#DAA520",
    "running_highlight": "#FF0000",
    "selected_highlight": "#FFD700"
   },
   "moveMenuLeft": true,
   "nav_menu": {
    "height": "12px",
    "width": "252px"
   },
   "navigate_menu": true,
   "number_sections": true,
   "sideBar": true,
   "threshold": 4,
   "toc_cell": false,
   "toc_section_display": "block",
   "toc_window_display": false
  }
 },
 "nbformat": 4,
 "nbformat_minor": 2
}
