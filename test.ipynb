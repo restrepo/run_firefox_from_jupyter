{
 "cells": [
  {
   "cell_type": "code",
   "execution_count": 35,
   "metadata": {
    "collapsed": true
   },
   "outputs": [],
   "source": [
    "import pandas as pd\n",
    "import unidecode \n",
    "from wos_scp import *\n",
    "pd.set_option('display.max_rows', 500)\n",
    "pd.set_option('display.max_columns', 500)\n",
    "pd.set_option('display.max_colwidth',200)"
   ]
  },
  {
   "cell_type": "code",
   "execution_count": 28,
   "metadata": {},
   "outputs": [
    {
     "name": "stdout",
     "output_type": "stream",
     "text": [
      "-rw-r--r-- 1 restrepo restrepo  250942 Jul 19 11:01 patents.ipynb\r\n",
      "-rw-r--r-- 1 restrepo restrepo   23600 Jul 19 10:50 patents_DYPN.xlsx\r\n",
      "-rw-r--r-- 1 restrepo restrepo    6438 Jul 18 09:57 patents_TFAZ.xlsx\r\n",
      "-rw-r--r-- 1 restrepo restrepo 1507940 Jul 17 19:02 patents_ZLXO.xlsx\r\n"
     ]
    }
   ],
   "source": [
    "ls -lt patents*"
   ]
  },
  {
   "cell_type": "code",
   "execution_count": 38,
   "metadata": {},
   "outputs": [
    {
     "name": "stdout",
     "output_type": "stream",
     "text": [
      "-rw-r--r-- 1 restrepo restrepo  251104 Jul 19 11:15 patents.ipynb\r\n",
      "-rw-r--r-- 1 restrepo restrepo   23600 Jul 19 10:50 patents_DYPN.xlsx\r\n",
      "-rw-r--r-- 1 restrepo restrepo    6438 Jul 18 09:57 patents_TFAZ.xlsx\r\n",
      "-rw-r--r-- 1 restrepo restrepo 1507940 Jul 17 19:02 patents_ZLXO.xlsx\r\n"
     ]
    }
   ],
   "source": [
    "ls -lt patents*"
   ]
  },
  {
   "cell_type": "code",
   "execution_count": 39,
   "metadata": {},
   "outputs": [
    {
     "data": {
      "text/html": [
       "<div>\n",
       "<table border=\"1\" class=\"dataframe\">\n",
       "  <thead>\n",
       "    <tr style=\"text-align: right;\">\n",
       "      <th></th>\n",
       "      <th>id</th>\n",
       "      <th>title</th>\n",
       "      <th>assignee</th>\n",
       "      <th>inventor/author</th>\n",
       "      <th>priority date</th>\n",
       "      <th>filing/creation date</th>\n",
       "      <th>publication date</th>\n",
       "      <th>grant date</th>\n",
       "      <th>result link</th>\n",
       "      <th>UDEA_Author</th>\n",
       "      <th>UDEA_Title</th>\n",
       "      <th>References</th>\n",
       "      <th>Abstract</th>\n",
       "      <th>Classifications</th>\n",
       "      <th>Journal</th>\n",
       "    </tr>\n",
       "  </thead>\n",
       "  <tbody>\n",
       "    <tr>\n",
       "      <th>0</th>\n",
       "      <td>WO2015025281A1</td>\n",
       "      <td>Method for diagnosing tuberculosis in a urine sample</td>\n",
       "      <td>University Of Cape Town</td>\n",
       "      <td>Jonathan Michael Blackburn, Brandy Leah YOUNG-GQAMANA, Keertan Unkha Jairam Dheda</td>\n",
       "      <td>2013-08-20</td>\n",
       "      <td>2014-08-20</td>\n",
       "      <td>2015-02-26</td>\n",
       "      <td>NaN</td>\n",
       "      <td>https://patents.google.com/patent/WO2015025281A1/en</td>\n",
       "      <td>baena garcia andres</td>\n",
       "      <td>evasion and subversion of antigen presentation by mycobacterium tuberculosis</td>\n",
       "      <td>NaN</td>\n",
       "      <td>A method of diagnosing tuberculosis disease or infection from a urine sample of a subject is provided, wherein the urine sample is tested for the presence of at least one Mycobacterium tuberculosi...</td>\n",
       "      <td>G01N33/56911: Bacteria; G01N33/569: Immunoassay; Biospecific binding assay for micro-organisms, e.g. protozoa, bacteria, viruses; G01N33/53: Immunoassay; Biospecific binding assay; G01N33/50: Chem...</td>\n",
       "      <td>udea_material</td>\n",
       "    </tr>\n",
       "    <tr>\n",
       "      <th>1</th>\n",
       "      <td>ES2548377T3</td>\n",
       "      <td>Ungulados inmunodeprimidos</td>\n",
       "      <td>Revivicor, Inc.</td>\n",
       "      <td>David L. Ayares, Michael Mendicino, Kevin Wells, Amy S. Dandro</td>\n",
       "      <td>2008-10-27</td>\n",
       "      <td>2009-10-27</td>\n",
       "      <td>2015-10-16</td>\n",
       "      <td>2015-10-16</td>\n",
       "      <td>https://patents.google.com/patent/ES2548377T3/es</td>\n",
       "      <td>franco restrepo jose luis</td>\n",
       "      <td>inmunodeficiencias primarias</td>\n",
       "      <td>NaN</td>\n",
       "      <td>Un método de prueba de la respuesta inmunitaria de un animal a un antígeno que comprende proveer un animal porcino genéticamente modificado que carece de expresión de la inmunoglobulina de la cade...</td>\n",
       "      <td>A01K67/0275: Genetically modified vertebrates, e.g. transgenic; A01K67/027: New breeds of vertebrates; A01K67/00: Rearing or breeding animals, not otherwise provided for; New breeds of animals; A0...</td>\n",
       "      <td>udea_material</td>\n",
       "    </tr>\n",
       "    <tr>\n",
       "      <th>2</th>\n",
       "      <td>US20130189368A1</td>\n",
       "      <td>Nanoparticulate composition containing antibiotics for intramammary administration in animals</td>\n",
       "      <td>Universidade Federal De Ouro Preto</td>\n",
       "      <td>Vanessa Carla Furtado Mosqueira, Raquel Silva Araújo, Humberto de Mello Brandão</td>\n",
       "      <td>2010-06-01</td>\n",
       "      <td>2011-06-01</td>\n",
       "      <td>2013-07-25</td>\n",
       "      <td>NaN</td>\n",
       "      <td>https://patents.google.com/patent/US20130189368A1/en</td>\n",
       "      <td>ramirez vasquez nicolas fernando</td>\n",
       "      <td>mastitis bovina</td>\n",
       "      <td>NaN</td>\n",
       "      <td>The present invention relates to the development of two types of polymer nanocapsules to encapsulate cloxacillin benzathine, an antimicrobial drug. More specifically, this invention relates to a n...</td>\n",
       "      <td>A61K9/00: Medicinal preparations characterised by special physical form; A61K: PREPARATIONS FOR MEDICAL, DENTAL, OR TOILET PURPOSES; A61: MEDICAL OR VETERINARY SCIENCE; HYGIENE; A: HUMAN NECESSITI...</td>\n",
       "      <td>udea_material</td>\n",
       "    </tr>\n",
       "    <tr>\n",
       "      <th>3</th>\n",
       "      <td>ES2617086T3</td>\n",
       "      <td>Método para la identificación de un modulador de una señalización celular</td>\n",
       "      <td>Progenitor Labs Limited</td>\n",
       "      <td>Yen Choo</td>\n",
       "      <td>2005-11-30</td>\n",
       "      <td>2006-11-30</td>\n",
       "      <td>2017-06-15</td>\n",
       "      <td>2017-06-15</td>\n",
       "      <td>https://patents.google.com/patent/ES2617086T3/es</td>\n",
       "      <td>rojas lopez mauricio</td>\n",
       "      <td>senalizacion celular</td>\n",
       "      <td>NaN</td>\n",
       "      <td>NaN</td>\n",
       "      <td>G01N33/502: Chemical analysis of biological material, e.g. blood, urine; Testing involving biospecific ligand binding methods; Immunological testing involving human or animal cells for testing or ...</td>\n",
       "      <td>udea_material</td>\n",
       "    </tr>\n",
       "    <tr>\n",
       "      <th>4</th>\n",
       "      <td>ES2607984T3</td>\n",
       "      <td>Métodos y medios para producir plantas tolerantes a estrés abiótico</td>\n",
       "      <td>Vib Vzw, Universiteit Gent</td>\n",
       "      <td>Dirk Gustaaf INZÉ, Aleksandra SKIRYCZ, Hannes CLAEYS, Frederik Coppens</td>\n",
       "      <td>2011-04-22</td>\n",
       "      <td>2012-04-23</td>\n",
       "      <td>2017-04-05</td>\n",
       "      <td>2017-04-05</td>\n",
       "      <td>https://patents.google.com/patent/ES2607984T3/es</td>\n",
       "      <td>rojas lopez mauricio</td>\n",
       "      <td>senalizacion celular</td>\n",
       "      <td>NaN</td>\n",
       "      <td>Un método para producir una planta tolerante a estrés abiótico respecto a una planta de control, disminuyendo la ruta de transducción de señales de etileno en dicha planta durante el periodo of es...</td>\n",
       "      <td>C12N15/8261: Phenotypically and genetically modified plants via recombinant DNA technology with agronomic (input) traits, e.g. crop yield; C12N15/8241: Phenotypically and genetically modified plan...</td>\n",
       "      <td>udea_material</td>\n",
       "    </tr>\n",
       "    <tr>\n",
       "      <th>5</th>\n",
       "      <td>ES2272558T3</td>\n",
       "      <td>Inhibidores del proteasoma para el tratamiento de infecciones causadas por virus de la hepatitis.</td>\n",
       "      <td>Viromics Gmbh</td>\n",
       "      <td>Heinz Hohenberg, Alexij Prassolow, Evelyn Schubert, Ulrich Schubert, Husseyin Sirma, Uwe Tessmer, Reinhold Welker, Hans Will</td>\n",
       "      <td>2000-10-12</td>\n",
       "      <td>2001-10-11</td>\n",
       "      <td>2007-05-01</td>\n",
       "      <td>2007-05-01</td>\n",
       "      <td>https://patents.google.com/patent/ES2272558T3/es</td>\n",
       "      <td>diaz castrillon francisco javier</td>\n",
       "      <td>terapia antiviral</td>\n",
       "      <td>NaN</td>\n",
       "      <td>Uso de inhibidores del proteasoma para la preparación de un agente para inhibir la liberación, maduración y replicación de un virus de la hepatitis.</td>\n",
       "      <td>A61K31/535: Heterocyclic compounds having nitrogen as a ring hetero atom, e.g. guanethidine, rifamycins having six-membered rings with at least one nitrogen and one oxygen as the ring hetero atoms...</td>\n",
       "      <td>udea_material</td>\n",
       "    </tr>\n",
       "    <tr>\n",
       "      <th>6</th>\n",
       "      <td>ES2542308T3</td>\n",
       "      <td>Composiciones y métodos para la terapia y diagnóstico de infecciones por citomegalovirus</td>\n",
       "      <td>Theraclone Sciences, Inc.</td>\n",
       "      <td>Ole Olsen</td>\n",
       "      <td>2008-03-10</td>\n",
       "      <td>2009-03-10</td>\n",
       "      <td>2015-08-04</td>\n",
       "      <td>2015-08-04</td>\n",
       "      <td>https://patents.google.com/patent/ES2542308T3/es</td>\n",
       "      <td>diaz castrillon francisco javier</td>\n",
       "      <td>terapia antiviral</td>\n",
       "      <td>NaN</td>\n",
       "      <td>Un anticuerpo anti CMV aislado o fragmento del mismo, en el que dicho anticuerpo o fragmento del mismo comprende: (a) una región VH que comprende (i) una región VH CDR1 que comprende la secuencia ...</td>\n",
       "      <td>C07K16/085: Herpetoviridae, e.g. pseudorabies virus, Epstein-Barr virus; C07K16/081: Immunoglobulins [IGs], e.g. monoclonal or polyclonal antibodies against material from viruses from DNA viruses;...</td>\n",
       "      <td>udea_material</td>\n",
       "    </tr>\n",
       "    <tr>\n",
       "      <th>7</th>\n",
       "      <td>ES2398912T3</td>\n",
       "      <td>Ácido carboxílico macrocíclico y compuesto de acilsulfonamida como inhibidor de la replicación del virus de la hepatitis C</td>\n",
       "      <td>F. Hoffmann-La Roche Ltd.</td>\n",
       "      <td>Lawrence M. Blatt, Steven Mark Wenglowsky, Steven Wade Andrews, Yutong Jiang, April Layne Kennedy, Kevin Ronald Condroski, John Anthony Josey, Peter John Stengel, Machender R. Madduru, George Andr...</td>\n",
       "      <td>2003-10-14</td>\n",
       "      <td>2004-10-13</td>\n",
       "      <td>2013-03-22</td>\n",
       "      <td>2013-03-22</td>\n",
       "      <td>https://patents.google.com/patent/ES2398912T3/es</td>\n",
       "      <td>diaz castrillon francisco javier</td>\n",
       "      <td>terapia antiviral</td>\n",
       "      <td>NaN</td>\n",
       "      <td>Un compuesto que tiene la fórmula: **Fórmula** o una sal farmacéuticamente aceptable del mismo.</td>\n",
       "      <td>C07D487/02: Heterocyclic compounds containing nitrogen atoms as the only ring hetero atoms in the condensed system, not provided for by C07D451/00 - C07D477/00 in which the condensed system contai...</td>\n",
       "      <td>udea_material</td>\n",
       "    </tr>\n",
       "    <tr>\n",
       "      <th>8</th>\n",
       "      <td>ES2326695T3</td>\n",
       "      <td>Metodo y medio para determinar la tasa de replicacion de una poblacion viral.</td>\n",
       "      <td>Tibotec Pharmaceuticals Ltd.</td>\n",
       "      <td>Lee Terry Bacheler, Bethune Marie-Pierre T.M.M.G. De, Laurence Tatiana Rimsky, Marck Herwig Gaston Emiel Van</td>\n",
       "      <td>2005-10-14</td>\n",
       "      <td>2006-10-13</td>\n",
       "      <td>2009-10-16</td>\n",
       "      <td>2009-10-16</td>\n",
       "      <td>https://patents.google.com/patent/ES2326695T3/es</td>\n",
       "      <td>diaz castrillon francisco javier</td>\n",
       "      <td>terapia antiviral</td>\n",
       "      <td>NaN</td>\n",
       "      <td>Un método para la determinación de la tasa de replicación de una población viral, comprendiendo dicho método los pasos de: a) diluir la población viral en al menos dos diluciones diferentes; b) pr...</td>\n",
       "      <td>G01N33/569: Immunoassay; Biospecific binding assay for micro-organisms, e.g. protozoa, bacteria, viruses; G01N33/53: Immunoassay; Biospecific binding assay; G01N33/50: Chemical analysis of biologi...</td>\n",
       "      <td>udea_material</td>\n",
       "    </tr>\n",
       "    <tr>\n",
       "      <th>9</th>\n",
       "      <td>ES2541853T3</td>\n",
       "      <td>Compuestos basados en sangliferina</td>\n",
       "      <td>Neurovive Pharmaceutical Ab</td>\n",
       "      <td>Steven James Moss, Matthew Alan Gregory, Barrie Wilkinson, Christine Janet Martin</td>\n",
       "      <td>2010-02-09</td>\n",
       "      <td>2011-02-09</td>\n",
       "      <td>2015-07-27</td>\n",
       "      <td>2015-07-27</td>\n",
       "      <td>https://patents.google.com/patent/ES2541853T3/es</td>\n",
       "      <td>diaz castrillon francisco javier</td>\n",
       "      <td>terapia antiviral</td>\n",
       "      <td>NaN</td>\n",
       "      <td>Compuesto según la fórmula (I) a continuación, o una sal farmacéuticamente aceptable del mismo: **Fórmula** en la que: R1 y R2 representan independientemente alquilo, alquenilo, cicloalquilo, cicl...</td>\n",
       "      <td>A61K31/495: Heterocyclic compounds having nitrogen as a ring hetero atom, e.g. guanethidine, rifamycins having six-membered rings with two or more nitrogen atoms as the only ring heteroatoms, e.g....</td>\n",
       "      <td>udea_material</td>\n",
       "    </tr>\n",
       "    <tr>\n",
       "      <th>10</th>\n",
       "      <td>US9408395B2</td>\n",
       "      <td>Process for potentiating the production of Lingzhi mushroom (Ganoderma lucidum) substances and antifungal activity thereof</td>\n",
       "      <td>Universidad De Antioquia</td>\n",
       "      <td>John Jairo Mira Castillo, Paola Andrea Zapata Ocampo, LUCíA ATEHORTÚA GARCÉS, Liuda Johana Sepúlveda Arango, Diego Fernando Rojas Vahos</td>\n",
       "      <td>2013-02-22</td>\n",
       "      <td>2013-06-18</td>\n",
       "      <td>2016-08-09</td>\n",
       "      <td>2016-08-09</td>\n",
       "      <td>https://patents.google.com/patent/US9408395B2/en</td>\n",
       "      <td>blair trujillo silvia victoria</td>\n",
       "      <td>actividad antiplasmodial de extractos de la planta calophyllum lucidum</td>\n",
       "      <td>1. Wasser, S. P. (2002) Medicinal mushrooms as a source of antitumor and immunomodulating polysaccharides., Applied microbiology and biotechnology 60, 258-74.\\n2. Asatiani, M., Kachlishvili, E., K...</td>\n",
       "      <td>The instant invention refers to a novel process for potentiating the production of substances with antifungal activity obtained from Ganoderma lucidum, using a technological device for the differe...</td>\n",
       "      <td>A01N: PRESERVATION OF BODIES OF HUMANS OR ANIMALS OR PLANTS OR PARTS THEREOF; BIOCIDES, e.g. AS DISINFECTANTS, AS PESTICIDES, AS HERBICIDES; PEST REPELLANTS OR ATTRACTANTS; PLANT GROWTH REGULATORS...</td>\n",
       "      <td>scientia</td>\n",
       "    </tr>\n",
       "  </tbody>\n",
       "</table>\n",
       "</div>"
      ],
      "text/plain": [
       "                 id  \\\n",
       "0    WO2015025281A1   \n",
       "1       ES2548377T3   \n",
       "2   US20130189368A1   \n",
       "3       ES2617086T3   \n",
       "4       ES2607984T3   \n",
       "5       ES2272558T3   \n",
       "6       ES2542308T3   \n",
       "7       ES2398912T3   \n",
       "8       ES2326695T3   \n",
       "9       ES2541853T3   \n",
       "10      US9408395B2   \n",
       "\n",
       "                                                                                                                          title  \\\n",
       "0                                                                         Method for diagnosing tuberculosis in a urine sample    \n",
       "1                                                                                                   Ungulados inmunodeprimidos    \n",
       "2                                Nanoparticulate composition containing antibiotics for intramammary administration in animals    \n",
       "3                                                    Método para la identificación de un modulador de una señalización celular    \n",
       "4                                                          Métodos y medios para producir plantas tolerantes a estrés abiótico    \n",
       "5                            Inhibidores del proteasoma para el tratamiento de infecciones causadas por virus de la hepatitis.    \n",
       "6                                     Composiciones y métodos para la terapia y diagnóstico de infecciones por citomegalovirus    \n",
       "7   Ácido carboxílico macrocíclico y compuesto de acilsulfonamida como inhibidor de la replicación del virus de la hepatitis C    \n",
       "8                                                Metodo y medio para determinar la tasa de replicacion de una poblacion viral.    \n",
       "9                                                                                           Compuestos basados en sangliferina    \n",
       "10  Process for potentiating the production of Lingzhi mushroom (Ganoderma lucidum) substances and antifungal activity thereof    \n",
       "\n",
       "                              assignee  \\\n",
       "0              University Of Cape Town   \n",
       "1                      Revivicor, Inc.   \n",
       "2   Universidade Federal De Ouro Preto   \n",
       "3              Progenitor Labs Limited   \n",
       "4           Vib Vzw, Universiteit Gent   \n",
       "5                        Viromics Gmbh   \n",
       "6            Theraclone Sciences, Inc.   \n",
       "7            F. Hoffmann-La Roche Ltd.   \n",
       "8         Tibotec Pharmaceuticals Ltd.   \n",
       "9          Neurovive Pharmaceutical Ab   \n",
       "10            Universidad De Antioquia   \n",
       "\n",
       "                                                                                                                                                                                            inventor/author  \\\n",
       "0                                                                                                                         Jonathan Michael Blackburn, Brandy Leah YOUNG-GQAMANA, Keertan Unkha Jairam Dheda   \n",
       "1                                                                                                                                            David L. Ayares, Michael Mendicino, Kevin Wells, Amy S. Dandro   \n",
       "2                                                                                                                           Vanessa Carla Furtado Mosqueira, Raquel Silva Araújo, Humberto de Mello Brandão   \n",
       "3                                                                                                                                                                                                  Yen Choo   \n",
       "4                                                                                                                                    Dirk Gustaaf INZÉ, Aleksandra SKIRYCZ, Hannes CLAEYS, Frederik Coppens   \n",
       "5                                                                              Heinz Hohenberg, Alexij Prassolow, Evelyn Schubert, Ulrich Schubert, Husseyin Sirma, Uwe Tessmer, Reinhold Welker, Hans Will   \n",
       "6                                                                                                                                                                                                 Ole Olsen   \n",
       "7   Lawrence M. Blatt, Steven Mark Wenglowsky, Steven Wade Andrews, Yutong Jiang, April Layne Kennedy, Kevin Ronald Condroski, John Anthony Josey, Peter John Stengel, Machender R. Madduru, George Andr...   \n",
       "8                                                                                              Lee Terry Bacheler, Bethune Marie-Pierre T.M.M.G. De, Laurence Tatiana Rimsky, Marck Herwig Gaston Emiel Van   \n",
       "9                                                                                                                         Steven James Moss, Matthew Alan Gregory, Barrie Wilkinson, Christine Janet Martin   \n",
       "10                                                                  John Jairo Mira Castillo, Paola Andrea Zapata Ocampo, LUCíA ATEHORTÚA GARCÉS, Liuda Johana Sepúlveda Arango, Diego Fernando Rojas Vahos   \n",
       "\n",
       "   priority date filing/creation date publication date  grant date  \\\n",
       "0     2013-08-20           2014-08-20       2015-02-26         NaN   \n",
       "1     2008-10-27           2009-10-27       2015-10-16  2015-10-16   \n",
       "2     2010-06-01           2011-06-01       2013-07-25         NaN   \n",
       "3     2005-11-30           2006-11-30       2017-06-15  2017-06-15   \n",
       "4     2011-04-22           2012-04-23       2017-04-05  2017-04-05   \n",
       "5     2000-10-12           2001-10-11       2007-05-01  2007-05-01   \n",
       "6     2008-03-10           2009-03-10       2015-08-04  2015-08-04   \n",
       "7     2003-10-14           2004-10-13       2013-03-22  2013-03-22   \n",
       "8     2005-10-14           2006-10-13       2009-10-16  2009-10-16   \n",
       "9     2010-02-09           2011-02-09       2015-07-27  2015-07-27   \n",
       "10    2013-02-22           2013-06-18       2016-08-09  2016-08-09   \n",
       "\n",
       "                                             result link  \\\n",
       "0    https://patents.google.com/patent/WO2015025281A1/en   \n",
       "1       https://patents.google.com/patent/ES2548377T3/es   \n",
       "2   https://patents.google.com/patent/US20130189368A1/en   \n",
       "3       https://patents.google.com/patent/ES2617086T3/es   \n",
       "4       https://patents.google.com/patent/ES2607984T3/es   \n",
       "5       https://patents.google.com/patent/ES2272558T3/es   \n",
       "6       https://patents.google.com/patent/ES2542308T3/es   \n",
       "7       https://patents.google.com/patent/ES2398912T3/es   \n",
       "8       https://patents.google.com/patent/ES2326695T3/es   \n",
       "9       https://patents.google.com/patent/ES2541853T3/es   \n",
       "10      https://patents.google.com/patent/US9408395B2/en   \n",
       "\n",
       "                         UDEA_Author  \\\n",
       "0               baena garcia andres    \n",
       "1          franco restrepo jose luis   \n",
       "2   ramirez vasquez nicolas fernando   \n",
       "3              rojas lopez mauricio    \n",
       "4              rojas lopez mauricio    \n",
       "5   diaz castrillon francisco javier   \n",
       "6   diaz castrillon francisco javier   \n",
       "7   diaz castrillon francisco javier   \n",
       "8   diaz castrillon francisco javier   \n",
       "9   diaz castrillon francisco javier   \n",
       "10    blair trujillo silvia victoria   \n",
       "\n",
       "                                                                      UDEA_Title  \\\n",
       "0   evasion and subversion of antigen presentation by mycobacterium tuberculosis   \n",
       "1                                                   inmunodeficiencias primarias   \n",
       "2                                                                mastitis bovina   \n",
       "3                                                           senalizacion celular   \n",
       "4                                                           senalizacion celular   \n",
       "5                                                              terapia antiviral   \n",
       "6                                                              terapia antiviral   \n",
       "7                                                              terapia antiviral   \n",
       "8                                                              terapia antiviral   \n",
       "9                                                              terapia antiviral   \n",
       "10        actividad antiplasmodial de extractos de la planta calophyllum lucidum   \n",
       "\n",
       "                                                                                                                                                                                                 References  \\\n",
       "0                                                                                                                                                                                                       NaN   \n",
       "1                                                                                                                                                                                                       NaN   \n",
       "2                                                                                                                                                                                                       NaN   \n",
       "3                                                                                                                                                                                                       NaN   \n",
       "4                                                                                                                                                                                                       NaN   \n",
       "5                                                                                                                                                                                                       NaN   \n",
       "6                                                                                                                                                                                                       NaN   \n",
       "7                                                                                                                                                                                                       NaN   \n",
       "8                                                                                                                                                                                                       NaN   \n",
       "9                                                                                                                                                                                                       NaN   \n",
       "10  1. Wasser, S. P. (2002) Medicinal mushrooms as a source of antitumor and immunomodulating polysaccharides., Applied microbiology and biotechnology 60, 258-74.\\n2. Asatiani, M., Kachlishvili, E., K...   \n",
       "\n",
       "                                                                                                                                                                                                   Abstract  \\\n",
       "0   A method of diagnosing tuberculosis disease or infection from a urine sample of a subject is provided, wherein the urine sample is tested for the presence of at least one Mycobacterium tuberculosi...   \n",
       "1   Un método de prueba de la respuesta inmunitaria de un animal a un antígeno que comprende proveer un animal porcino genéticamente modificado que carece de expresión de la inmunoglobulina de la cade...   \n",
       "2   The present invention relates to the development of two types of polymer nanocapsules to encapsulate cloxacillin benzathine, an antimicrobial drug. More specifically, this invention relates to a n...   \n",
       "3                                                                                                                                                                                                       NaN   \n",
       "4   Un método para producir una planta tolerante a estrés abiótico respecto a una planta de control, disminuyendo la ruta de transducción de señales de etileno en dicha planta durante el periodo of es...   \n",
       "5                                                      Uso de inhibidores del proteasoma para la preparación de un agente para inhibir la liberación, maduración y replicación de un virus de la hepatitis.   \n",
       "6   Un anticuerpo anti CMV aislado o fragmento del mismo, en el que dicho anticuerpo o fragmento del mismo comprende: (a) una región VH que comprende (i) una región VH CDR1 que comprende la secuencia ...   \n",
       "7                                                                                                           Un compuesto que tiene la fórmula: **Fórmula** o una sal farmacéuticamente aceptable del mismo.   \n",
       "8   Un método para la determinación de la tasa de replicación de una población viral, comprendiendo dicho método los pasos de: a) diluir la población viral en al menos dos diluciones diferentes; b) pr...   \n",
       "9   Compuesto según la fórmula (I) a continuación, o una sal farmacéuticamente aceptable del mismo: **Fórmula** en la que: R1 y R2 representan independientemente alquilo, alquenilo, cicloalquilo, cicl...   \n",
       "10  The instant invention refers to a novel process for potentiating the production of substances with antifungal activity obtained from Ganoderma lucidum, using a technological device for the differe...   \n",
       "\n",
       "                                                                                                                                                                                            Classifications  \\\n",
       "0   G01N33/56911: Bacteria; G01N33/569: Immunoassay; Biospecific binding assay for micro-organisms, e.g. protozoa, bacteria, viruses; G01N33/53: Immunoassay; Biospecific binding assay; G01N33/50: Chem...   \n",
       "1   A01K67/0275: Genetically modified vertebrates, e.g. transgenic; A01K67/027: New breeds of vertebrates; A01K67/00: Rearing or breeding animals, not otherwise provided for; New breeds of animals; A0...   \n",
       "2   A61K9/00: Medicinal preparations characterised by special physical form; A61K: PREPARATIONS FOR MEDICAL, DENTAL, OR TOILET PURPOSES; A61: MEDICAL OR VETERINARY SCIENCE; HYGIENE; A: HUMAN NECESSITI...   \n",
       "3   G01N33/502: Chemical analysis of biological material, e.g. blood, urine; Testing involving biospecific ligand binding methods; Immunological testing involving human or animal cells for testing or ...   \n",
       "4   C12N15/8261: Phenotypically and genetically modified plants via recombinant DNA technology with agronomic (input) traits, e.g. crop yield; C12N15/8241: Phenotypically and genetically modified plan...   \n",
       "5   A61K31/535: Heterocyclic compounds having nitrogen as a ring hetero atom, e.g. guanethidine, rifamycins having six-membered rings with at least one nitrogen and one oxygen as the ring hetero atoms...   \n",
       "6   C07K16/085: Herpetoviridae, e.g. pseudorabies virus, Epstein-Barr virus; C07K16/081: Immunoglobulins [IGs], e.g. monoclonal or polyclonal antibodies against material from viruses from DNA viruses;...   \n",
       "7   C07D487/02: Heterocyclic compounds containing nitrogen atoms as the only ring hetero atoms in the condensed system, not provided for by C07D451/00 - C07D477/00 in which the condensed system contai...   \n",
       "8   G01N33/569: Immunoassay; Biospecific binding assay for micro-organisms, e.g. protozoa, bacteria, viruses; G01N33/53: Immunoassay; Biospecific binding assay; G01N33/50: Chemical analysis of biologi...   \n",
       "9   A61K31/495: Heterocyclic compounds having nitrogen as a ring hetero atom, e.g. guanethidine, rifamycins having six-membered rings with two or more nitrogen atoms as the only ring heteroatoms, e.g....   \n",
       "10  A01N: PRESERVATION OF BODIES OF HUMANS OR ANIMALS OR PLANTS OR PARTS THEREOF; BIOCIDES, e.g. AS DISINFECTANTS, AS PESTICIDES, AS HERBICIDES; PEST REPELLANTS OR ATTRACTANTS; PLANT GROWTH REGULATORS...   \n",
       "\n",
       "          Journal  \n",
       "0   udea_material  \n",
       "1   udea_material  \n",
       "2   udea_material  \n",
       "3   udea_material  \n",
       "4   udea_material  \n",
       "5   udea_material  \n",
       "6   udea_material  \n",
       "7   udea_material  \n",
       "8   udea_material  \n",
       "9   udea_material  \n",
       "10       scientia  "
      ]
     },
     "execution_count": 39,
     "metadata": {},
     "output_type": "execute_result"
    }
   ],
   "source": [
    "pd.read_excel('patents_DYPN.xlsx')"
   ]
  },
  {
   "cell_type": "code",
   "execution_count": 30,
   "metadata": {
    "collapsed": true
   },
   "outputs": [],
   "source": [
    "kk=pd.read_excel('analysed_DYPN.xlsx')"
   ]
  },
  {
   "cell_type": "code",
   "execution_count": 36,
   "metadata": {},
   "outputs": [
    {
     "data": {
      "text/html": [
       "<div>\n",
       "<table border=\"1\" class=\"dataframe\">\n",
       "  <thead>\n",
       "    <tr style=\"text-align: right;\">\n",
       "      <th></th>\n",
       "      <th>SIU_título</th>\n",
       "      <th>UDEA_Autor</th>\n",
       "      <th>UDEA_apellido</th>\n",
       "      <th>Journal</th>\n",
       "    </tr>\n",
       "  </thead>\n",
       "  <tbody>\n",
       "    <tr>\n",
       "      <th>156</th>\n",
       "      <td>experimental scrambling technique to strengthen optical encryption</td>\n",
       "      <td>BARRERA RAMIREZ JOHN FREDY</td>\n",
       "      <td>barrera</td>\n",
       "      <td>udea_material</td>\n",
       "    </tr>\n",
       "    <tr>\n",
       "      <th>250</th>\n",
       "      <td>improvement capacities of an opto-digital encryption system via multiplexing</td>\n",
       "      <td>RUEDA MUNOZ EDGAR ALBERTO</td>\n",
       "      <td>rueda</td>\n",
       "      <td>udea_material</td>\n",
       "    </tr>\n",
       "    <tr>\n",
       "      <th>280</th>\n",
       "      <td>information security using a joint transform correlator encrypting architecture</td>\n",
       "      <td>BARRERA RAMIREZ JOHN FREDY</td>\n",
       "      <td>barrera</td>\n",
       "      <td>udea_material</td>\n",
       "    </tr>\n",
       "    <tr>\n",
       "      <th>447</th>\n",
       "      <td>novel approaches and applications in optical encryption</td>\n",
       "      <td>BARRERA RAMIREZ JOHN FREDY</td>\n",
       "      <td>barrera</td>\n",
       "      <td>udea_material</td>\n",
       "    </tr>\n",
       "    <tr>\n",
       "      <th>651</th>\n",
       "      <td>sistema optico de encriptacion de doble mascara de fase bajo arquitectura 4f</td>\n",
       "      <td>RUEDA MUNOZ EDGAR ALBERTO</td>\n",
       "      <td>rueda</td>\n",
       "      <td>udea_material</td>\n",
       "    </tr>\n",
       "    <tr>\n",
       "      <th>745</th>\n",
       "      <td>vulnerability of the jtc based double random phase encoding encrypting architecture</td>\n",
       "      <td>BARRERA RAMIREZ JOHN FREDY</td>\n",
       "      <td>barrera</td>\n",
       "      <td>udea_material</td>\n",
       "    </tr>\n",
       "  </tbody>\n",
       "</table>\n",
       "</div>"
      ],
      "text/plain": [
       "                                                                              SIU_título  \\\n",
       "156                   experimental scrambling technique to strengthen optical encryption   \n",
       "250         improvement capacities of an opto-digital encryption system via multiplexing   \n",
       "280      information security using a joint transform correlator encrypting architecture   \n",
       "447                              novel approaches and applications in optical encryption   \n",
       "651         sistema optico de encriptacion de doble mascara de fase bajo arquitectura 4f   \n",
       "745  vulnerability of the jtc based double random phase encoding encrypting architecture   \n",
       "\n",
       "                                        UDEA_Autor UDEA_apellido  \\\n",
       "156                     BARRERA RAMIREZ JOHN FREDY       barrera   \n",
       "250  RUEDA MUNOZ EDGAR ALBERTO                             rueda   \n",
       "280                     BARRERA RAMIREZ JOHN FREDY       barrera   \n",
       "447                     BARRERA RAMIREZ JOHN FREDY       barrera   \n",
       "651  RUEDA MUNOZ EDGAR ALBERTO                             rueda   \n",
       "745                     BARRERA RAMIREZ JOHN FREDY       barrera   \n",
       "\n",
       "           Journal  \n",
       "156  udea_material  \n",
       "250  udea_material  \n",
       "280  udea_material  \n",
       "447  udea_material  \n",
       "651  udea_material  \n",
       "745  udea_material  "
      ]
     },
     "execution_count": 36,
     "metadata": {},
     "output_type": "execute_result"
    }
   ],
   "source": [
    "kk[kk.SIU_título.str.contains('encr')]"
   ]
  },
  {
   "cell_type": "code",
   "execution_count": 32,
   "metadata": {},
   "outputs": [
    {
     "data": {
      "text/plain": [
       "(22, 4)"
      ]
     },
     "execution_count": 32,
     "metadata": {},
     "output_type": "execute_result"
    }
   ],
   "source": [
    "pd.read_excel('failed_DYPN.xlsx').shape"
   ]
  },
  {
   "cell_type": "code",
   "execution_count": 31,
   "metadata": {},
   "outputs": [
    {
     "data": {
      "text/plain": [
       "(817, 4)"
      ]
     },
     "execution_count": 31,
     "metadata": {},
     "output_type": "execute_result"
    }
   ],
   "source": [
    "kk.shape"
   ]
  },
  {
   "cell_type": "code",
   "execution_count": 19,
   "metadata": {},
   "outputs": [
    {
     "data": {
      "text/plain": [
       "'actividad antimicobacteriana de virola flexuosa, v. canophylla, v. carinata y dugandiodendron yarumalense'"
      ]
     },
     "execution_count": 19,
     "metadata": {},
     "output_type": "execute_result"
    }
   ],
   "source": [
    "pd.read_excel('analysed.xlsx').SIU_título.values[-1]"
   ]
  },
  {
   "cell_type": "code",
   "execution_count": 3,
   "metadata": {
    "collapsed": true
   },
   "outputs": [],
   "source": [
    "def read_drive_excel(file_name,**kwargs):\n",
    "    '''Read excel from google drive\n",
    "     Requieres a drive_file dictionary with the keys for the google drive\n",
    "     file names'''\n",
    "    import pandas as pd    \n",
    "    return pd.read_excel(download_file_from_google_drive(\n",
    "        drive_file.get(file_name,'Not key found for %s' %file_name)),**kwargs)"
   ]
  },
  {
   "cell_type": "code",
   "execution_count": 5,
   "metadata": {
    "collapsed": true
   },
   "outputs": [],
   "source": [
    "from configparser import ConfigParser"
   ]
  },
  {
   "cell_type": "code",
   "execution_count": 6,
   "metadata": {
    "collapsed": true
   },
   "outputs": [],
   "source": [
    "cfg=ConfigParser()\n",
    "cfg.optionxform=str\n",
    "tmp=cfg.read('drive.cfg')\n",
    "drive_file=cfg['FILES']"
   ]
  },
  {
   "cell_type": "code",
   "execution_count": 8,
   "metadata": {
    "collapsed": true
   },
   "outputs": [],
   "source": [
    "from google_drive_tools import *\n",
    "udea=read_drive_excel('WOS_SCP_UDEA_SJR_SIU.xlsx')"
   ]
  },
  {
   "cell_type": "code",
   "execution_count": 13,
   "metadata": {
    "collapsed": true
   },
   "outputs": [],
   "source": [
    "udea=fill_NaN(udea)"
   ]
  },
  {
   "cell_type": "code",
   "execution_count": 14,
   "metadata": {
    "collapsed": true
   },
   "outputs": [],
   "source": [
    "SIU=udea[udea.CTR_Centro!=''].reset_index(drop=True)\n",
    "\n",
    "SIU['SIU_título']=SIU.TI.str.lower().map(unidecode.unidecode).str.replace(\n",
    "    '\\s+\\([0-9a-z\\s\\-\\.\\'?\\:,\\/]+\\)\\.*$','').str.replace('\\.$','')\n",
    "\n",
    "SIU['SIU_título']=SIU.SIU_título.str.lower().map(unidecode.unidecode).str.replace(\n",
    "    '\\s+\\[[0-9a-z\\s\\-\\.\\'?\\:,\\(\\)\\/]+\\].*$','').str.replace('\\.$','')\n",
    "\n",
    "tmp=SIU[~SIU.Tipo.str.contains('^UDEA$')]\n",
    "siu=SIU[SIU.Tipo.str.contains('^UDEA$')].append(tmp).reset_index(drop=True)\n",
    "\n",
    "siu['UDEA_Autor']=siu.CTR_NOMBRE\n",
    "siu['UDEA_apellido']=siu.CTR_NOMBRE.str.split(' ').str[0].str.lower().map(unidecode.unidecode)\n",
    "df=siu[['SIU_título','UDEA_Autor','UDEA_apellido']]"
   ]
  },
  {
   "cell_type": "code",
   "execution_count": 20,
   "metadata": {},
   "outputs": [
    {
     "data": {
      "text/html": [
       "<div>\n",
       "<table border=\"1\" class=\"dataframe\">\n",
       "  <thead>\n",
       "    <tr style=\"text-align: right;\">\n",
       "      <th></th>\n",
       "      <th>SIU_título</th>\n",
       "      <th>UDEA_Autor</th>\n",
       "      <th>UDEA_apellido</th>\n",
       "    </tr>\n",
       "  </thead>\n",
       "  <tbody>\n",
       "    <tr>\n",
       "      <th>1100</th>\n",
       "      <td>actividad antimicobacteriana de virola flexuos...</td>\n",
       "      <td>ECHEVERRI LOPEZ LUIS FERNANDO</td>\n",
       "      <td>echeverri</td>\n",
       "    </tr>\n",
       "  </tbody>\n",
       "</table>\n",
       "</div>"
      ],
      "text/plain": [
       "                                             SIU_título  \\\n",
       "1100  actividad antimicobacteriana de virola flexuos...   \n",
       "\n",
       "                         UDEA_Autor UDEA_apellido  \n",
       "1100  ECHEVERRI LOPEZ LUIS FERNANDO     echeverri  "
      ]
     },
     "execution_count": 20,
     "metadata": {},
     "output_type": "execute_result"
    }
   ],
   "source": [
    "df[df.SIU_título.str.contains('actividad antimicobacteriana de virola flexuosa')]"
   ]
  },
  {
   "cell_type": "code",
   "execution_count": 17,
   "metadata": {},
   "outputs": [
    {
     "name": "stdout",
     "output_type": "stream",
     "text": [
      "analysed.xlsx  geckodriver.log            patents.ipynb           shell_like.py\r\n",
      "drive.cfg      Googe_search_engine.ipynb  \u001b[0m\u001b[01;34m__pycache__\u001b[0m/            test.ipynb\r\n",
      "failed.xlsx    google_drive_tools.py      shell_like_commands.py  wos_scp.py\r\n"
     ]
    }
   ],
   "source": [
    "ls"
   ]
  },
  {
   "cell_type": "code",
   "execution_count": 21,
   "metadata": {},
   "outputs": [
    {
     "data": {
      "text/html": [
       "<div>\n",
       "<table border=\"1\" class=\"dataframe\">\n",
       "  <thead>\n",
       "    <tr style=\"text-align: right;\">\n",
       "      <th></th>\n",
       "      <th>SIU_título</th>\n",
       "      <th>UDEA_Autor</th>\n",
       "      <th>UDEA_apellido</th>\n",
       "    </tr>\n",
       "  </thead>\n",
       "  <tbody>\n",
       "    <tr>\n",
       "      <th>0</th>\n",
       "      <td>primer registro del flebotomineo brumptomyia p...</td>\n",
       "      <td>VELEZ BERNAL IVAN DARIO</td>\n",
       "      <td>velez</td>\n",
       "    </tr>\n",
       "    <tr>\n",
       "      <th>1</th>\n",
       "      <td>estudio prospectivo de casos de cirrosis y car...</td>\n",
       "      <td>HOYOS DUQUE SERGIO IVAN</td>\n",
       "      <td>hoyos</td>\n",
       "    </tr>\n",
       "    <tr>\n",
       "      <th>2</th>\n",
       "      <td>optimal flood control of a hydroelectric reser...</td>\n",
       "      <td>LOPEZ LEZAMA JESUS MARIA</td>\n",
       "      <td>lopez</td>\n",
       "    </tr>\n",
       "    <tr>\n",
       "      <th>3</th>\n",
       "      <td>characterization of iron site in manganites la...</td>\n",
       "      <td>ARNACHE OLMOS OSCAR LUIS</td>\n",
       "      <td>arnache</td>\n",
       "    </tr>\n",
       "    <tr>\n",
       "      <th>4</th>\n",
       "      <td>fisiopatologia reproductiva en ganado de leche</td>\n",
       "      <td>MALDONADO ESTRADA JUAN GUILLERMO</td>\n",
       "      <td>maldonado</td>\n",
       "    </tr>\n",
       "    <tr>\n",
       "      <th>5</th>\n",
       "      <td>co2 adsorption on carbonaceous surfaces: a com...</td>\n",
       "      <td>MONDRAGON PEREZ FANOR</td>\n",
       "      <td>mondragon</td>\n",
       "    </tr>\n",
       "    <tr>\n",
       "      <th>6</th>\n",
       "      <td>fe doped tio2 obtained by mechanical milling i...</td>\n",
       "      <td>OSORIO VELEZ JAIME ALBERTO</td>\n",
       "      <td>osorio</td>\n",
       "    </tr>\n",
       "    <tr>\n",
       "      <th>7</th>\n",
       "      <td>a review of the early peopling and cultural di...</td>\n",
       "      <td>ACEITUNO BOCANEGRA FRANCISCO JAVIER</td>\n",
       "      <td>aceituno</td>\n",
       "    </tr>\n",
       "  </tbody>\n",
       "</table>\n",
       "</div>"
      ],
      "text/plain": [
       "                                          SIU_título  \\\n",
       "0  primer registro del flebotomineo brumptomyia p...   \n",
       "1  estudio prospectivo de casos de cirrosis y car...   \n",
       "2  optimal flood control of a hydroelectric reser...   \n",
       "3  characterization of iron site in manganites la...   \n",
       "4     fisiopatologia reproductiva en ganado de leche   \n",
       "5  co2 adsorption on carbonaceous surfaces: a com...   \n",
       "6  fe doped tio2 obtained by mechanical milling i...   \n",
       "7  a review of the early peopling and cultural di...   \n",
       "\n",
       "                                      UDEA_Autor UDEA_apellido  \n",
       "0                        VELEZ BERNAL IVAN DARIO         velez  \n",
       "1                        HOYOS DUQUE SERGIO IVAN         hoyos  \n",
       "2                       LOPEZ LEZAMA JESUS MARIA         lopez  \n",
       "3  ARNACHE OLMOS OSCAR LUIS                            arnache  \n",
       "4  MALDONADO ESTRADA JUAN GUILLERMO                  maldonado  \n",
       "5  MONDRAGON PEREZ FANOR                             mondragon  \n",
       "6  OSORIO VELEZ JAIME ALBERTO                           osorio  \n",
       "7            ACEITUNO BOCANEGRA FRANCISCO JAVIER      aceituno  "
      ]
     },
     "execution_count": 21,
     "metadata": {},
     "output_type": "execute_result"
    }
   ],
   "source": [
    "pd.read_excel('failed.xlsx')"
   ]
  },
  {
   "cell_type": "code",
   "execution_count": null,
   "metadata": {
    "collapsed": true
   },
   "outputs": [],
   "source": [
    "generate"
   ]
  }
 ],
 "metadata": {
  "kernelspec": {
   "display_name": "Python 3",
   "language": "python",
   "name": "python3"
  },
  "language_info": {
   "codemirror_mode": {
    "name": "ipython",
    "version": 3
   },
   "file_extension": ".py",
   "mimetype": "text/x-python",
   "name": "python",
   "nbconvert_exporter": "python",
   "pygments_lexer": "ipython3",
   "version": "3.4.2"
  },
  "toc": {
   "colors": {
    "hover_highlight": "#DAA520",
    "running_highlight": "#FF0000",
    "selected_highlight": "#FFD700"
   },
   "moveMenuLeft": true,
   "nav_menu": {
    "height": "12px",
    "width": "252px"
   },
   "navigate_menu": true,
   "number_sections": true,
   "sideBar": true,
   "threshold": 4,
   "toc_cell": false,
   "toc_section_display": "block",
   "toc_window_display": false
  }
 },
 "nbformat": 4,
 "nbformat_minor": 2
}
