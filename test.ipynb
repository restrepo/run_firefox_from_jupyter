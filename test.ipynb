{
 "cells": [
  {
   "cell_type": "code",
   "execution_count": 12,
   "metadata": {
    "collapsed": true
   },
   "outputs": [],
   "source": [
    "import pandas as pd\n",
    "import unidecode \n",
    "from wos_scp import *"
   ]
  },
  {
   "cell_type": "code",
   "execution_count": 2,
   "metadata": {},
   "outputs": [
    {
     "data": {
      "text/plain": [
       "'citomegalovirus y aterosclerosis. existe alguna relacion?'"
      ]
     },
     "execution_count": 2,
     "metadata": {},
     "output_type": "execute_result"
    }
   ],
   "source": [
    "pd.read_excel('analysed.xlsx').SIU_título.values[-1]"
   ]
  },
  {
   "cell_type": "code",
   "execution_count": 3,
   "metadata": {
    "collapsed": true
   },
   "outputs": [],
   "source": [
    "def read_drive_excel(file_name,**kwargs):\n",
    "    '''Read excel from google drive\n",
    "     Requieres a drive_file dictionary with the keys for the google drive\n",
    "     file names'''\n",
    "    import pandas as pd    \n",
    "    return pd.read_excel(download_file_from_google_drive(\n",
    "        drive_file.get(file_name,'Not key found for %s' %file_name)),**kwargs)"
   ]
  },
  {
   "cell_type": "code",
   "execution_count": 5,
   "metadata": {
    "collapsed": true
   },
   "outputs": [],
   "source": [
    "from configparser import ConfigParser"
   ]
  },
  {
   "cell_type": "code",
   "execution_count": 6,
   "metadata": {
    "collapsed": true
   },
   "outputs": [],
   "source": [
    "cfg=ConfigParser()\n",
    "cfg.optionxform=str\n",
    "tmp=cfg.read('drive.cfg')\n",
    "drive_file=cfg['FILES']"
   ]
  },
  {
   "cell_type": "code",
   "execution_count": 8,
   "metadata": {},
   "outputs": [],
   "source": [
    "from google_drive_tools import *\n",
    "udea=read_drive_excel('WOS_SCP_UDEA_SJR_SIU.xlsx')"
   ]
  },
  {
   "cell_type": "code",
   "execution_count": 13,
   "metadata": {
    "collapsed": true
   },
   "outputs": [],
   "source": [
    "udea=fill_NaN(udea)"
   ]
  },
  {
   "cell_type": "code",
   "execution_count": 14,
   "metadata": {},
   "outputs": [],
   "source": [
    "SIU=udea[udea.CTR_Centro!=''].reset_index(drop=True)\n",
    "\n",
    "SIU['SIU_título']=SIU.TI.str.lower().map(unidecode.unidecode).str.replace(\n",
    "    '\\s+\\([0-9a-z\\s\\-\\.\\'?\\:,\\/]+\\)\\.*$','').str.replace('\\.$','')\n",
    "\n",
    "SIU['SIU_título']=SIU.SIU_título.str.lower().map(unidecode.unidecode).str.replace(\n",
    "    '\\s+\\[[0-9a-z\\s\\-\\.\\'?\\:,\\(\\)\\/]+\\].*$','').str.replace('\\.$','')\n",
    "\n",
    "tmp=SIU[~SIU.Tipo.str.contains('^UDEA$')]\n",
    "siu=SIU[SIU.Tipo.str.contains('^UDEA$')].append(tmp).reset_index(drop=True)\n",
    "\n",
    "siu['UDEA_Autor']=siu.CTR_NOMBRE\n",
    "siu['UDEA_apellido']=siu.CTR_NOMBRE.str.split(' ').str[0].str.lower().map(unidecode.unidecode)\n",
    "df=siu[['SIU_título','UDEA_Autor','UDEA_apellido']]"
   ]
  },
  {
   "cell_type": "code",
   "execution_count": 15,
   "metadata": {},
   "outputs": [
    {
     "data": {
      "text/html": [
       "<div>\n",
       "<table border=\"1\" class=\"dataframe\">\n",
       "  <thead>\n",
       "    <tr style=\"text-align: right;\">\n",
       "      <th></th>\n",
       "      <th>SIU_título</th>\n",
       "      <th>UDEA_Autor</th>\n",
       "      <th>UDEA_apellido</th>\n",
       "    </tr>\n",
       "  </thead>\n",
       "  <tbody>\n",
       "    <tr>\n",
       "      <th>800</th>\n",
       "      <td>citomegalovirus y aterosclerosis. existe algun...</td>\n",
       "      <td>RUGELES LOPEZ MARIA TERESA</td>\n",
       "      <td>rugeles</td>\n",
       "    </tr>\n",
       "  </tbody>\n",
       "</table>\n",
       "</div>"
      ],
      "text/plain": [
       "                                            SIU_título  \\\n",
       "800  citomegalovirus y aterosclerosis. existe algun...   \n",
       "\n",
       "                     UDEA_Autor UDEA_apellido  \n",
       "800  RUGELES LOPEZ MARIA TERESA       rugeles  "
      ]
     },
     "execution_count": 15,
     "metadata": {},
     "output_type": "execute_result"
    }
   ],
   "source": [
    "df[df.SIU_título.str.contains('citomegalovirus y aterosclerosis. existe alguna relacion?')]"
   ]
  },
  {
   "cell_type": "code",
   "execution_count": null,
   "metadata": {
    "collapsed": true
   },
   "outputs": [],
   "source": []
  }
 ],
 "metadata": {
  "kernelspec": {
   "display_name": "Python 3",
   "language": "python",
   "name": "python3"
  },
  "language_info": {
   "codemirror_mode": {
    "name": "ipython",
    "version": 3
   },
   "file_extension": ".py",
   "mimetype": "text/x-python",
   "name": "python",
   "nbconvert_exporter": "python",
   "pygments_lexer": "ipython3",
   "version": "3.4.2"
  },
  "toc": {
   "colors": {
    "hover_highlight": "#DAA520",
    "running_highlight": "#FF0000",
    "selected_highlight": "#FFD700"
   },
   "moveMenuLeft": true,
   "nav_menu": {
    "height": "12px",
    "width": "252px"
   },
   "navigate_menu": true,
   "number_sections": true,
   "sideBar": true,
   "threshold": 4,
   "toc_cell": false,
   "toc_section_display": "block",
   "toc_window_display": false
  }
 },
 "nbformat": 4,
 "nbformat_minor": 2
}
